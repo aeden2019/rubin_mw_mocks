{
 "cells": [
  {
   "cell_type": "code",
   "execution_count": 1,
   "id": "685d9c0d",
   "metadata": {},
   "outputs": [],
   "source": [
    "import numpy as np\n",
    "from matplotlib import pyplot as plt\n",
    "import os\n",
    "import vaex\n",
    "import gizmo_analysis as ga\n",
    "import sys\n",
    "sys.path.append('../mock')\n",
    "import allvariables\n",
    "import beta\n",
    "import getMasks\n",
    "import getPhotometric\n",
    "import getConversions\n",
    "import getPlots"
   ]
  },
  {
   "cell_type": "markdown",
   "id": "e97d1086",
   "metadata": {},
   "source": [
    "## Access Mock Parameters"
   ]
  },
  {
   "cell_type": "code",
   "execution_count": 2,
   "id": "3424b87b",
   "metadata": {},
   "outputs": [],
   "source": [
    "# Get the parameters from the config file\n",
    "params = allvariables.getparamsnotebook()\n",
    "\n",
    "# Define parameter names\n",
    "param_names = [\n",
    "        \"snap\", \"sim\", \"sim_dir\", \"sat_id_dir\", \"rmin\", \"rmax\", \"sat_mask\", \"ananke_name\", \n",
    "        \"photo_sys\", \"cmd_magnames\", \"app_mag_lim_lo\", \"app_mag_lim_hi\", \n",
    "        \"abs_mag_lim_lo\", \"abs_mag_lim_hi\", \"ananke_r_max\", \"fsample\"\n",
    "]\n",
    "\n",
    "# Initialize parameter dictionary\n",
    "params_dict = {}\n",
    "\n",
    "# Assign values to parameters and declare them locally\n",
    "for param_name, param_value in zip(param_names, params):\n",
    "    params_dict[param_name] = param_value\n",
    "    locals()[param_name] = param_value"
   ]
  },
  {
   "cell_type": "markdown",
   "id": "9b204597",
   "metadata": {},
   "source": [
    "## Access Ananke Data"
   ]
  },
  {
   "cell_type": "code",
   "execution_count": 3,
   "id": "6ec43bf2",
   "metadata": {},
   "outputs": [
    {
     "name": "stdout",
     "output_type": "stream",
     "text": [
      "\n",
      "Opening data from: \n",
      "/home/jovyan/home/rubin_mw_mocks/src/analysis/../mock/survey.m12b_385.h5 \n",
      "/home/jovyan/home/rubin_mw_mocks/src/analysis/../mock/survey.m12b_385_sat.h5\n"
     ]
    }
   ],
   "source": [
    "# Get the current working directory\n",
    "current_dir = os.getcwd()\n",
    "\n",
    "# Go back one directory (to 'src') and then to 'mock'\n",
    "ananke_file_path = os.path.join(current_dir, \"..\", \"mock\", \"survey.m12b_385.h5\")\n",
    "ananke_sat_file_path = os.path.join(current_dir, \"..\", \"mock\", \"survey.m12b_385_sat.h5\")\n",
    "print(f\"\\nOpening data from: \\n{ananke_file_path} \\n{ananke_sat_file_path}\")\n",
    "\n",
    "# Check if the file exists\n",
    "if os.path.exists(ananke_file_path):\n",
    "    # Proceed with opening the file\n",
    "    survey = vaex.open(ananke_file_path)\n",
    "else:\n",
    "    print(f\"{ananke_file_path} file does not exist.\")\n",
    "    \n",
    "# Check if the file exists\n",
    "if os.path.exists(ananke_sat_file_path):\n",
    "    # Proceed with opening the file\n",
    "    survey_sat = vaex.open(ananke_sat_file_path)\n",
    "else:\n",
    "    print(f\"{ananke_sat_file_path} file does not exist.\")"
   ]
  },
  {
   "cell_type": "code",
   "execution_count": 4,
   "id": "4e76d0d7",
   "metadata": {},
   "outputs": [
    {
     "name": "stdout",
     "output_type": "stream",
     "text": [
      "['age', 'alpha', 'calcium', 'carbon', 'dec', 'dform', 'dmod', 'feh', 'glat', 'glon', 'grav', 'helium', 'lsst_gmag', 'lsst_gmag_Err', 'lsst_gmag_Intrinsic', 'lsst_gmag_Sig', 'lsst_imag', 'lsst_imag_Err', 'lsst_imag_Intrinsic', 'lsst_imag_Sig', 'lsst_rmag', 'lsst_rmag_Err', 'lsst_rmag_Intrinsic', 'lsst_rmag_Sig', 'lsst_umag', 'lsst_umag_Err', 'lsst_umag_Intrinsic', 'lsst_umag_Sig', 'lsst_ymag', 'lsst_ymag_Err', 'lsst_ymag_Intrinsic', 'lsst_ymag_Sig', 'lsst_zmag', 'lsst_zmag_Err', 'lsst_zmag_Intrinsic', 'lsst_zmag_Sig', 'lum', 'mact', 'magnesium', 'mtip', 'mub', 'mudec', 'mul', 'mura', 'neon', 'nitrogen', 'oxygen', 'parentid', 'partid', 'pi', 'px', 'py', 'pz', 'ra', 'rad', 'silicon', 'smass', 'sulphur', 'teff', 'vr', 'vx', 'vy', 'vz']\n"
     ]
    }
   ],
   "source": [
    "# Print all the columns\n",
    "column_names = survey.column_names\n",
    "print(column_names)"
   ]
  },
  {
   "cell_type": "code",
   "execution_count": 5,
   "id": "26c7fb87",
   "metadata": {},
   "outputs": [],
   "source": [
    "# Extract apparent magnitudes without satellite\n",
    "app_g_mag_sat = survey_sat.lsst_gmag.to_numpy()\n",
    "app_r_mag_sat = survey_sat.lsst_rmag.to_numpy()\n",
    "app_i_mag_sat = survey_sat.lsst_imag.to_numpy()\n",
    "app_u_mag_sat = survey_sat.lsst_umag.to_numpy()\n",
    "app_y_mag_sat = survey_sat.lsst_ymag.to_numpy()\n",
    "app_z_mag_sat = survey_sat.lsst_zmag.to_numpy()"
   ]
  },
  {
   "cell_type": "code",
   "execution_count": 6,
   "id": "d5d0fee2",
   "metadata": {},
   "outputs": [],
   "source": [
    "# Extract the radial distance as parsecs\n",
    "rad_distance_sat = survey_sat.rad.to_numpy() * 1000"
   ]
  },
  {
   "cell_type": "code",
   "execution_count": 7,
   "id": "1ec77826",
   "metadata": {},
   "outputs": [],
   "source": [
    "# Extract absolute magnitudes without satellite\n",
    "g_mag_sat = getConversions.app2abs(app_g_mag_sat, rad_distance_sat)\n",
    "r_mag_sat = getConversions.app2abs(app_r_mag_sat, rad_distance_sat)\n",
    "i_mag_sat = getConversions.app2abs(app_i_mag_sat, rad_distance_sat)\n",
    "u_mag_sat = getConversions.app2abs(app_u_mag_sat, rad_distance_sat)\n",
    "y_mag_sat = getConversions.app2abs(app_y_mag_sat, rad_distance_sat)\n",
    "z_mag_sat = getConversions.app2abs(app_z_mag_sat, rad_distance_sat)"
   ]
  },
  {
   "cell_type": "markdown",
   "id": "f3d0e589",
   "metadata": {},
   "source": [
    "## Adding Photometric Error"
   ]
  },
  {
   "cell_type": "code",
   "execution_count": 8,
   "id": "cade67d1",
   "metadata": {},
   "outputs": [],
   "source": [
    "# Add the sigma value to each apparent magnitude\n",
    "app_g_mag_sat_err = app_g_mag_sat + getPhotometric.getSigmaVisit('g', app_g_mag_sat)\n",
    "app_r_mag_sat_err = app_r_mag_sat + getPhotometric.getSigmaVisit('r', app_r_mag_sat)\n",
    "app_i_mag_sat_err = app_i_mag_sat + getPhotometric.getSigmaVisit('i', app_i_mag_sat)\n",
    "app_u_mag_sat_err = app_u_mag_sat + getPhotometric.getSigmaVisit('u', app_u_mag_sat)\n",
    "app_y_mag_sat_err = app_y_mag_sat + getPhotometric.getSigmaVisit('y', app_y_mag_sat)\n",
    "app_z_mag_sat_err = app_z_mag_sat + getPhotometric.getSigmaVisit('z', app_z_mag_sat)"
   ]
  },
  {
   "cell_type": "code",
   "execution_count": 9,
   "id": "c464bdef",
   "metadata": {},
   "outputs": [
    {
     "name": "stdout",
     "output_type": "stream",
     "text": [
      "[  1.6685793   2.1672728   5.1420608 ... 257.1509     66.44\n",
      " 136.95439  ]\n"
     ]
    }
   ],
   "source": [
    "print(getPhotometric.getSigmaVisit('g', app_g_mag_sat))"
   ]
  },
  {
   "cell_type": "markdown",
   "id": "7f0cac17",
   "metadata": {},
   "source": [
    "Here I am calculating absolute magnitude from apparent magnitude with errors. I could also calculate the error using getPhotometric error itself, but I'm not sure with method is correct. "
   ]
  },
  {
   "cell_type": "code",
   "execution_count": 10,
   "id": "32f3929e",
   "metadata": {},
   "outputs": [],
   "source": [
    "# Extract absolute magnitudes without satellite and with error\n",
    "g_mag_sat_err = getConversions.app2abs(app_g_mag_sat_err, rad_distance_sat)\n",
    "r_mag_sat_err = getConversions.app2abs(app_r_mag_sat_err, rad_distance_sat)\n",
    "i_mag_sat_err = getConversions.app2abs(app_i_mag_sat_err, rad_distance_sat)\n",
    "u_mag_sat_err = getConversions.app2abs(app_u_mag_sat_err, rad_distance_sat)\n",
    "y_mag_sat_err = getConversions.app2abs(app_y_mag_sat_err, rad_distance_sat)\n",
    "z_mag_sat_err = getConversions.app2abs(app_z_mag_sat_err, rad_distance_sat)"
   ]
  },
  {
   "cell_type": "markdown",
   "id": "057225f6",
   "metadata": {},
   "source": [
    "## Color Magnitude Diagram"
   ]
  },
  {
   "cell_type": "code",
   "execution_count": 11,
   "id": "f18a7b5d",
   "metadata": {},
   "outputs": [],
   "source": [
    "# Calculate g - r\n",
    "g_minus_r_sat = app_g_mag_sat - app_r_mag_sat"
   ]
  },
  {
   "cell_type": "code",
   "execution_count": null,
   "id": "c9784b8c",
   "metadata": {},
   "outputs": [],
   "source": [
    "getPlots.colormagplot(g_minus_r_sat, g_mag_sat)"
   ]
  },
  {
   "cell_type": "code",
   "execution_count": null,
   "id": "ef00ce43",
   "metadata": {},
   "outputs": [],
   "source": [
    "# Calculate g - r with error\n",
    "g_minus_r_sat_err = app_g_mag_sat_err - app_r_mag_sat_err"
   ]
  },
  {
   "cell_type": "code",
   "execution_count": null,
   "id": "7f27d31a",
   "metadata": {},
   "outputs": [],
   "source": [
    "getPlots.colormagplot(g_minus_r_sat_err, g_mag_sat_err)"
   ]
  }
 ],
 "metadata": {
  "kernelspec": {
   "display_name": "Python 3 (ipykernel)",
   "language": "python",
   "name": "python3"
  },
  "language_info": {
   "codemirror_mode": {
    "name": "ipython",
    "version": 3
   },
   "file_extension": ".py",
   "mimetype": "text/x-python",
   "name": "python",
   "nbconvert_exporter": "python",
   "pygments_lexer": "ipython3",
   "version": "3.8.18"
  }
 },
 "nbformat": 4,
 "nbformat_minor": 5
}
