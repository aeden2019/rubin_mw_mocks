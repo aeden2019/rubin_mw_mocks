{
 "cells": [
  {
   "cell_type": "code",
   "execution_count": 9,
   "id": "932a648d",
   "metadata": {},
   "outputs": [],
   "source": [
    "import numpy as np\n",
    "from matplotlib import pyplot as plt\n",
    "import os\n",
    "import vaex"
   ]
  },
  {
   "cell_type": "code",
   "execution_count": 13,
   "id": "922b6633",
   "metadata": {},
   "outputs": [
    {
     "name": "stdout",
     "output_type": "stream",
     "text": [
      "\n",
      "Opening data from: /home/jovyan/home/rubin_mw_mocks/src/analysis/../mock/survey.sim.h5\n",
      "File found\n"
     ]
    }
   ],
   "source": [
    "# Get the current working directory\n",
    "current_dir = os.getcwd()\n",
    "\n",
    "# Go back one directory (to 'src') and then to 'mock'\n",
    "ananke_file_path = os.path.join(current_dir, \"..\", \"mock\", \"survey.sim.h5\")\n",
    "print(f\"\\nOpening data from: {ananke_file_path}\")\n",
    "\n",
    "# Check if the file exists\n",
    "if os.path.exists(ananke_file_path):\n",
    "    # Proceed with opening the file\n",
    "    survey = vaex.open(ananke_file_path)\n",
    "else:\n",
    "    print(\"File does not exist.\")"
   ]
  },
  {
   "cell_type": "code",
   "execution_count": null,
   "id": "6a17787d",
   "metadata": {},
   "outputs": [],
   "source": [
    "luminosity = survey.lum.to_numpy()\n",
    "temperature = survey.teff.to_numpy()\n",
    "\n",
    "fig3,axs=plt.subplots(nrows=1,ncols=3,figsize=(20,8), subplot_kw={'adjustable':'box'})\n",
    "fig3.subplots_adjust(wspace=0.8)\n",
    "for ax in axs[1:]: ax.set_visible(False)\n",
    "\n",
    "hb = axs[0].hexbin(temperature, luminosity, gridsize=(241),\n",
    "                   bins='log', cmap=hex_cmap)\n",
    "\n",
    "axs[0].invert_xaxis()\n",
    "axs[0].set_xlabel('log10(Temperature [Kelvin])')\n",
    "axs[0].set_ylabel('log10(Luminosity [Lsun])')\n",
    "axs[0].set_aspect(1.0/axs[0].get_data_ratio())\n",
    "\n",
    "ax0color_axis = axs[0].inset_axes([1, 0., 0.03, 1.], transform=axs[0].transAxes)\n",
    "\n",
    "ax0cbar = fig.colorbar(hb, cax=ax0color_axis, location='right')\n",
    "ax0cbar.set_label('Number of stars\\nper hexcell')"
   ]
  }
 ],
 "metadata": {
  "kernelspec": {
   "display_name": "Python 3 (ipykernel)",
   "language": "python",
   "name": "python3"
  },
  "language_info": {
   "codemirror_mode": {
    "name": "ipython",
    "version": 3
   },
   "file_extension": ".py",
   "mimetype": "text/x-python",
   "name": "python",
   "nbconvert_exporter": "python",
   "pygments_lexer": "ipython3",
   "version": "3.8.17"
  }
 },
 "nbformat": 4,
 "nbformat_minor": 5
}
