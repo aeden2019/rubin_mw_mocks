{
 "cells": [
  {
   "cell_type": "markdown",
   "id": "4e1d935d",
   "metadata": {},
   "source": [
    "# Plotting"
   ]
  },
  {
   "cell_type": "code",
   "execution_count": 1,
   "id": "0f203aef",
   "metadata": {},
   "outputs": [],
   "source": [
    "import numpy as np\n",
    "from matplotlib import pyplot as plt\n",
    "import os\n",
    "import vaex\n",
    "import gizmo_analysis as ga\n",
    "import sys\n",
    "sys.path.append('../mock')\n",
    "import allvariables"
   ]
  },
  {
   "cell_type": "markdown",
   "id": "226acaa9",
   "metadata": {},
   "source": [
    "## Access Mock Parameters"
   ]
  },
  {
   "cell_type": "markdown",
   "id": "7967fb3a",
   "metadata": {},
   "source": [
    "Here we are declaring all the `config.yaml` file parameters as local parameters."
   ]
  },
  {
   "cell_type": "code",
   "execution_count": 2,
   "id": "e65c2989",
   "metadata": {},
   "outputs": [],
   "source": [
    "# Get the parameters from the config file\n",
    "params = allvariables.getparamsnotebook()\n",
    "\n",
    "# Define parameter names\n",
    "param_names = [\n",
    "        \"snap\", \"sim\", \"sim_dir\", \"sat_id_dir\", \"rmin\", \"rmax\", \"sat_mask\", \"ananke_name\", \n",
    "        \"photo_sys\", \"cmd_magnames\", \"app_mag_lim_lo\", \"app_mag_lim_hi\", \n",
    "        \"abs_mag_lim_lo\", \"abs_mag_lim_hi\", \"ananke_r_max\", \"fsample\"\n",
    "]\n",
    "\n",
    "# Initialize parameter dictionary\n",
    "params_dict = {}\n",
    "\n",
    "# Assign values to parameters and declare them locally\n",
    "for param_name, param_value in zip(param_names, params):\n",
    "    params_dict[param_name] = param_value\n",
    "    locals()[param_name] = param_value"
   ]
  },
  {
   "cell_type": "markdown",
   "id": "5bce3a54",
   "metadata": {},
   "source": [
    "## Access Ananke Data"
   ]
  },
  {
   "cell_type": "markdown",
   "id": "c3b29100",
   "metadata": {},
   "source": [
    "Here we are accessing the data with and without the satellite included. Thus, we are working with two different surveys. "
   ]
  },
  {
   "cell_type": "code",
   "execution_count": 3,
   "id": "6434343f",
   "metadata": {},
   "outputs": [
    {
     "name": "stdout",
     "output_type": "stream",
     "text": [
      "\n",
      "Opening data from: \n",
      "/home/jovyan/home/rubin_mw_mocks/src/analysis/../mock/survey.anankethon_LSST_outer_m12b.h5 \n",
      "/home/jovyan/home/rubin_mw_mocks/src/analysis/../mock/survey.anankethon_LSST_outer_m12b_sat.h5\n"
     ]
    }
   ],
   "source": [
    "# Get the current working directory\n",
    "current_dir = os.getcwd()\n",
    "\n",
    "# Go back one directory (to 'src') and then to 'mock'\n",
    "ananke_file_path = os.path.join(current_dir, \"..\", \"mock\", \"survey.anankethon_LSST_outer_m12b.h5\")\n",
    "ananke_sat_file_path = os.path.join(current_dir, \"..\", \"mock\", \"survey.anankethon_LSST_outer_m12b_sat.h5\")\n",
    "print(f\"\\nOpening data from: \\n{ananke_file_path} \\n{ananke_sat_file_path}\")\n",
    "\n",
    "# Check if the file exists\n",
    "if os.path.exists(ananke_file_path):\n",
    "    # Proceed with opening the file\n",
    "    survey = vaex.open(ananke_file_path)\n",
    "else:\n",
    "    print(f\"{ananke_file_path} file does not exist.\")\n",
    "    \n",
    "# Check if the file exists\n",
    "if os.path.exists(ananke_sat_file_path):\n",
    "    # Proceed with opening the file\n",
    "    survey_sat = vaex.open(ananke_sat_file_path)\n",
    "else:\n",
    "    print(f\"{ananke_sat_file_path} file does not exist.\")"
   ]
  },
  {
   "cell_type": "code",
   "execution_count": 4,
   "id": "71649944",
   "metadata": {},
   "outputs": [
    {
     "name": "stdout",
     "output_type": "stream",
     "text": [
      "['age', 'alpha', 'calcium', 'carbon', 'dec', 'dform', 'dmod', 'feh', 'glat', 'glon', 'grav', 'helium', 'lsst_gmag', 'lsst_gmag_Err', 'lsst_gmag_Intrinsic', 'lsst_gmag_Sig', 'lsst_imag', 'lsst_imag_Err', 'lsst_imag_Intrinsic', 'lsst_imag_Sig', 'lsst_rmag', 'lsst_rmag_Err', 'lsst_rmag_Intrinsic', 'lsst_rmag_Sig', 'lsst_umag', 'lsst_umag_Err', 'lsst_umag_Intrinsic', 'lsst_umag_Sig', 'lsst_ymag', 'lsst_ymag_Err', 'lsst_ymag_Intrinsic', 'lsst_ymag_Sig', 'lsst_zmag', 'lsst_zmag_Err', 'lsst_zmag_Intrinsic', 'lsst_zmag_Sig', 'lum', 'mact', 'magnesium', 'mtip', 'mub', 'mudec', 'mul', 'mura', 'neon', 'nitrogen', 'oxygen', 'parentid', 'partid', 'pi', 'px', 'py', 'pz', 'ra', 'rad', 'silicon', 'smass', 'sulphur', 'teff', 'vr', 'vx', 'vy', 'vz']\n"
     ]
    }
   ],
   "source": [
    "column_names = survey.column_names\n",
    "print(column_names)"
   ]
  },
  {
   "cell_type": "markdown",
   "id": "432229c7",
   "metadata": {},
   "source": [
    "## Access FIRE Data"
   ]
  },
  {
   "cell_type": "code",
   "execution_count": 5,
   "id": "3fd8ecab",
   "metadata": {},
   "outputs": [
    {
     "name": "stdout",
     "output_type": "stream",
     "text": [
      "\n",
      "# in utilities.simulation.Snapshot():\n",
      "* reading:  home/jovyan/data/fire2/m12b_res7100/snapshot_times.txt\n",
      "\n",
      "* input redshift = 0.0:  using snapshot index = 600, redshift = 0.000\n",
      "\n",
      "\n",
      "# in gizmo_analysis.gizmo_io.Read():\n",
      "* reading header from:  home/jovyan/data/fire2/m12b_res7100/output/snapdir_600/snapshot_600.0.hdf5\n",
      "  snapshot contains the following number of particles:\n",
      "    dark      (id = 1): 74537000 particles\n",
      "    dark2     (id = 2): 6750970 particles\n",
      "    gas       (id = 0): 58588459 particles\n",
      "    star      (id = 4): 16869462 particles\n",
      "    blackhole (id = 5): 0 particles\n",
      "\n",
      "* reading the following\n",
      "  species: ['star']\n",
      "\n",
      "* reading particles from:\n",
      "    snapshot_600.0.hdf5\n",
      "    snapshot_600.1.hdf5\n",
      "    snapshot_600.2.hdf5\n",
      "    snapshot_600.3.hdf5\n",
      "    snapshot_600.4.hdf5\n",
      "    snapshot_600.5.hdf5\n",
      "    snapshot_600.6.hdf5\n",
      "    snapshot_600.7.hdf5\n",
      "\n",
      "* reading cosmological parameters from:  home/jovyan/data/fire2/m12b_res7100/initial_condition/ic_agora_m12b.conf\n",
      "\n",
      "* checking sanity of particle properties\n",
      "! warning: star mass [min, med, max] = [3051.634, 5481.869, 23714.801]\n",
      "\n",
      "\n",
      "# in gizmo_analysis.gizmo_track.ParticleCoordinate():\n",
      "  read 1 host (position, velocity, principal axes) from:  home/jovyan/data/fire2/m12b_res7100/track/host_coordinates.hdf5\n",
      "  host1 position = (39256.77, 41610.01, 39190.29) [kpc comoving]\n",
      "  host1 velocity = (-78.6, -26.0, -102.8) [km / s]\n",
      "  host1 axis ratios = (0.18, 0.19, 0.97)\n",
      "\n",
      "* assigning orbital properties wrt each host galaxy/halo to ['star']\n"
     ]
    }
   ],
   "source": [
    "redshift = 0.\n",
    "    \n",
    "part = ga.io.Read.read_snapshots(species='star',\n",
    "                                 snapshot_value_kind='redshift',\n",
    "                                 snapshot_values=redshift,\n",
    "                                 simulation_directory=sim_dir,\n",
    "                                 elements='all',\n",
    "                                 assign_hosts=True,\n",
    "                                 assign_hosts_rotation=True,\n",
    "                                 assign_orbits=True)"
   ]
  },
  {
   "cell_type": "markdown",
   "id": "29ccce54",
   "metadata": {},
   "source": [
    "## Extract Parameters"
   ]
  },
  {
   "cell_type": "code",
   "execution_count": 6,
   "id": "bbd5f4e2",
   "metadata": {},
   "outputs": [],
   "source": [
    "# Define the bin edges\n",
    "bins = 200  "
   ]
  },
  {
   "cell_type": "markdown",
   "id": "34e40c3c",
   "metadata": {},
   "source": [
    "### 1. Data before ananke"
   ]
  },
  {
   "cell_type": "markdown",
   "id": "752f7944",
   "metadata": {},
   "source": [
    "### 2. Data after ananke"
   ]
  },
  {
   "cell_type": "code",
   "execution_count": 7,
   "id": "b008a05a",
   "metadata": {},
   "outputs": [],
   "source": [
    "# Extract parameters\n",
    "anankeRadial = survey.rad.to_numpy()\n",
    "anankeMass = survey.smass.to_numpy()            \n",
    "anankeVel = survey.vr.to_numpy()"
   ]
  },
  {
   "cell_type": "code",
   "execution_count": 8,
   "id": "00c5a27a",
   "metadata": {},
   "outputs": [],
   "source": [
    "# Compute the ananke density profile\n",
    "anankeCounts, anankeEdges = np.histogram(anankeRadial, bins=bins, range=(rmin, rmax))\n",
    "anankeVolume = 4.0/3.0 * np.pi * (np.power(anankeEdges[1:], 3) - np.power(anankeEdges[:-1], 3))\n",
    "anankeDensity = anankeCounts / anankeVolume"
   ]
  },
  {
   "cell_type": "markdown",
   "id": "6fd9e843",
   "metadata": {},
   "source": [
    "### 3. BHB"
   ]
  },
  {
   "cell_type": "markdown",
   "id": "114d1126",
   "metadata": {},
   "source": [
    "To select BHB stars  we use $ 0.98 < u − g < 1.28$, $−0.27 < g − r < −0.06$ and excluding the region $([u−g −0.98]/0.215)2 + ([g −r+ 0.06]/0.17)2 < 1$."
   ]
  },
  {
   "cell_type": "code",
   "execution_count": 9,
   "id": "bbc0b2f1",
   "metadata": {},
   "outputs": [],
   "source": [
    "# Extract apparent magnitudes\n",
    "app_g_mag = survey.lsst_gmag.to_numpy()\n",
    "app_r_mag = survey.lsst_rmag.to_numpy()\n",
    "app_i_mag = survey.lsst_imag.to_numpy()\n",
    "app_u_mag = survey.lsst_umag.to_numpy()\n",
    "app_y_mag = survey.lsst_ymag.to_numpy()\n",
    "app_z_mag = survey.lsst_zmag.to_numpy()"
   ]
  },
  {
   "cell_type": "code",
   "execution_count": 10,
   "id": "96849476",
   "metadata": {},
   "outputs": [],
   "source": [
    "# Calculate u - g\n",
    "u_minus_g = app_u_mag - app_g_mag"
   ]
  },
  {
   "cell_type": "code",
   "execution_count": 11,
   "id": "7fecd434",
   "metadata": {},
   "outputs": [],
   "source": [
    "# Calculate g - r\n",
    "g_minus_r = app_g_mag - app_r_mag"
   ]
  },
  {
   "cell_type": "code",
   "execution_count": 12,
   "id": "8cdd240e",
   "metadata": {},
   "outputs": [],
   "source": [
    "# Create BHB mask\n",
    "bhb_mask = ((u_minus_g > 0.98) & (u_minus_g < 1.28) &\n",
    "            (g_minus_r > -0.27) & (g_minus_r < -0.06) &\n",
    "            ((((u_minus_g - 0.215) / 0.215) * 2 + ((g_minus_r + 0.06) / 0.17) * 2) >= 1))"
   ]
  },
  {
   "cell_type": "code",
   "execution_count": 13,
   "id": "7d75d9f2",
   "metadata": {},
   "outputs": [],
   "source": [
    "# Compute the BHB density profile\n",
    "bhbCounts, bhbEdges = np.histogram(anankeRadial[bhb_mask], bins=bins, range=(rmin, rmax))\n",
    "bhbVolume = 4.0/3.0 * np.pi * (np.power(bhbEdges[1:], 3) - np.power(bhbEdges[:-1], 3))\n",
    "bhbDensity = bhbCounts / bhbVolume"
   ]
  },
  {
   "cell_type": "markdown",
   "id": "36de7cee",
   "metadata": {},
   "source": [
    "### 4. K Giant"
   ]
  },
  {
   "cell_type": "markdown",
   "id": "10fcf36b",
   "metadata": {},
   "source": [
    "In order to isolate K giants in our stellar halo models we have used the colour cuts $0.5 < g − r < 1.3$ and $0.5 <\n",
    "u−g < 3.5$ from Xue et al. (2014), along with their proposed empirical polynomial relation between (g −r) and [Fe/H] to remove red horizontal branch and red-clump (RC) giants. All stars with $(g − r) > 0.087 [Fe/H]2 + 0.39 [Fe/H] + 0.96$ is excluded from the selection. An additional cut of $M_g < 4$ removes faint dwarf stars of the same colours"
   ]
  },
  {
   "cell_type": "code",
   "execution_count": 14,
   "id": "c30f908e",
   "metadata": {},
   "outputs": [],
   "source": [
    "# Extract absolute magnitudes\n",
    "# NOTE: THIS VALUE IS NOT ACTUALLY ABS MAGNITUDE\n",
    "g_mag = survey.lsst_gmag_Intrinsic.to_numpy()\n",
    "r_mag = survey.lsst_rmag_Intrinsic.to_numpy()\n",
    "i_mag = survey.lsst_imag_Intrinsic.to_numpy()\n",
    "u_mag = survey.lsst_umag_Intrinsic.to_numpy()\n",
    "y_mag = survey.lsst_ymag_Intrinsic.to_numpy()\n",
    "z_mag = survey.lsst_zmag_Intrinsic.to_numpy()"
   ]
  },
  {
   "cell_type": "code",
   "execution_count": 15,
   "id": "f7b8f8ed",
   "metadata": {},
   "outputs": [],
   "source": [
    "# Extract metalicity\n",
    "feh = survey.feh.to_numpy()"
   ]
  },
  {
   "cell_type": "code",
   "execution_count": 16,
   "id": "5b3db4be",
   "metadata": {},
   "outputs": [],
   "source": [
    "# Create K Giant mask\n",
    "kgiant_mask = ((g_minus_r > 0.5) & (g_minus_r < 1.3) &\n",
    "               (u_minus_g > 0.5) & (u_minus_g < 3.5) &\n",
    "               (g_minus_r <= ((0.087 * feh * 2) + (0.39 * feh) + 0.96)) & \n",
    "               (g_mag < 4))"
   ]
  },
  {
   "cell_type": "code",
   "execution_count": 17,
   "id": "0aaeb791",
   "metadata": {},
   "outputs": [],
   "source": [
    "# Compute the K Giant density profile\n",
    "kgiantCounts, kgiantEdges = np.histogram(anankeRadial[kgiant_mask], bins=bins, range=(rmin, rmax))\n",
    "kgiantVolume = 4.0/3.0 * np.pi * (np.power(kgiantEdges[1:], 3) - np.power(kgiantEdges[:-1], 3))\n",
    "kgiantDensity = kgiantCounts / kgiantVolume"
   ]
  },
  {
   "cell_type": "markdown",
   "id": "be7b347f",
   "metadata": {},
   "source": [
    "### 5. MSTO"
   ]
  },
  {
   "cell_type": "markdown",
   "id": "e4ee204a",
   "metadata": {},
   "source": [
    "To select main sequence turn off stars we use $ 0.2 < g−r < 0.4$ and $M_g > 4$."
   ]
  },
  {
   "cell_type": "code",
   "execution_count": 18,
   "id": "fbe51147",
   "metadata": {},
   "outputs": [],
   "source": [
    "# Create MSTO mask\n",
    "msto_mask = (g_minus_r > 0.2) & (g_minus_r < 0.4) & (g_mag > 4)"
   ]
  },
  {
   "cell_type": "code",
   "execution_count": 19,
   "id": "a7f64bc0",
   "metadata": {},
   "outputs": [],
   "source": [
    "# Compute the MSTO density profile\n",
    "mstoCounts, mstoEdges = np.histogram(anankeRadial[msto_mask], bins=bins, range=(rmin, rmax))\n",
    "mstoVolume = 4.0/3.0 * np.pi * (np.power(mstoEdges[1:], 3) - np.power(mstoEdges[:-1], 3))\n",
    "mstoDensity = mstoCounts / mstoVolume"
   ]
  },
  {
   "cell_type": "markdown",
   "id": "3b480878",
   "metadata": {},
   "source": [
    "## Plotting"
   ]
  },
  {
   "cell_type": "code",
   "execution_count": 20,
   "id": "0f2d51fa",
   "metadata": {},
   "outputs": [
    {
     "data": {
      "image/png": "[encoded data removed]",
      "text/plain": [
       "<Figure size 640x480 with 1 Axes>"
      ]
     },
     "metadata": {},
     "output_type": "display_data"
    }
   ],
   "source": [
    "# Plot the density profile\n",
    "fig, ax = plt.subplots()\n",
    "ax.loglog(anankeEdges[:-1], anankeDensity, label='ananke')\n",
    "ax.loglog(mstoEdges[:-1], mstoDensity, label='msto')\n",
    "ax.loglog(kgiantEdges[:-1], kgiantDensity, label='kgiant')\n",
    "ax.loglog(bhbEdges[:-1], bhbDensity, label='bhb')\n",
    "ax.set_xlabel('Radius [log kpc]')\n",
    "ax.set_ylabel('Density [log stars/kpc$^3$]')\n",
    "ax.set_xlim(rmin, rmax)\n",
    "ax.set_ylim()\n",
    "ax.legend()\n",
    "plt.title('Density Profile Without Satellite')\n",
    "plt.show()"
   ]
  },
  {
   "cell_type": "code",
   "execution_count": null,
   "id": "a7b1de7e",
   "metadata": {},
   "outputs": [],
   "source": []
  }
 ],
 "metadata": {
  "kernelspec": {
   "display_name": "Python 3 (ipykernel)",
   "language": "python",
   "name": "python3"
  },
  "language_info": {
   "codemirror_mode": {
    "name": "ipython",
    "version": 3
   },
   "file_extension": ".py",
   "mimetype": "text/x-python",
   "name": "python",
   "nbconvert_exporter": "python",
   "pygments_lexer": "ipython3",
   "version": "3.8.18"
  }
 },
 "nbformat": 4,
 "nbformat_minor": 5
}
